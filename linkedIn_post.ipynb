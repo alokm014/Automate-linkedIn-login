{
 "cells": [
  {
   "cell_type": "code",
   "execution_count": 1,
   "metadata": {},
   "outputs": [],
   "source": [
    "# import web driver and pandas\n",
    "from selenium import webdriver\n",
    "import pandas as pd"
   ]
  },
  {
   "cell_type": "code",
   "execution_count": 2,
   "metadata": {},
   "outputs": [],
   "source": [
    "# specifies the path to the chromedriver.exe\n",
    "driver = webdriver.Chrome(\"/opt/anaconda2/chromedriver\")\n",
    "\n",
    "# reading csv file  \n",
    "df = pd.read_csv(\"credentials.csv\", encoding='utf-8')"
   ]
  },
  {
   "cell_type": "code",
   "execution_count": 3,
   "metadata": {},
   "outputs": [],
   "source": [
    "# reading username\n",
    "myUsername = df.Username[0]\n",
    "\n",
    "# reading password\n",
    "myPassword = df.Password[0]\n",
    "\n",
    "# reading post\n",
    "myPost = df.Post[0]"
   ]
  },
  {
   "cell_type": "code",
   "execution_count": 4,
   "metadata": {},
   "outputs": [
    {
     "name": "stdout",
     "output_type": "stream",
     "text": [
      "Hello Everyone,\n",
      "\n",
      "Hope you are doing well,\n",
      "\n",
      "We are currently hiring for are as follow profile,\n",
      "\n",
      "Job title: Front End Developer\n",
      "Work Location: Noida Sector 62\n",
      "\n",
      "Essential Duties and Responsibilities:\n",
      "\n",
      "We are looking for a Front-End Web Developer who is motivated to combine the art of design with the art of programming. Responsibilities will include translation of the UI/UX design wireframes to actual code that will produce visual elements of the application. You will work with the UI/UX designer and bridge the gap between graphical design and technical implementation, taking an active role on both sides and defining how the application looks as well as how it works\n",
      "Responsibilities:\n",
      "• Develop new user-facing features\n",
      "• Build reusable code and libraries for future use\n",
      "• Ensure the technical feasibility of UI/UX designs\n",
      "• Optimize application for maximum speed and scalability\n",
      "• Assure that all user input is validated before submitting to back-end\n",
      "• Collaborate with other team members and stakeholders\n",
      "\n",
      "Moil placements service\n",
      "8750716479 / 9821156547 / 9582143633 / 0124-4561164\n",
      "\n",
      "#FrontEndDeveloper #ITJOBS #GURGAONJOBS #Moilconstantant\n"
     ]
    }
   ],
   "source": [
    "print myPost"
   ]
  },
  {
   "cell_type": "code",
   "execution_count": 5,
   "metadata": {},
   "outputs": [],
   "source": [
    "# driver.get method() will navigate to a page given by the URL address\n",
    "driver.get(\"https://www.linkedin.com/login?\")"
   ]
  },
  {
   "cell_type": "code",
   "execution_count": 6,
   "metadata": {},
   "outputs": [],
   "source": [
    "# locate email form by_name\n",
    "username = driver.find_element_by_name('session_key')\n",
    "\n",
    "# locate email form by_xpath\n",
    "#username = driver.find_element_by_xpath('//*[@id=\"username\"]')\n",
    "\n",
    "# locate email form by_id\n",
    "#username = driver.find_element_by_id(\"username\")\n",
    "\n",
    "#send_keys() to simulate key strokes\n",
    "username.send_keys(myUsername)"
   ]
  },
  {
   "cell_type": "code",
   "execution_count": 7,
   "metadata": {},
   "outputs": [],
   "source": [
    "# locate password form by_name\n",
    "#password = driver.find_element_by_name('session_password')\n",
    "\n",
    "#locate password form id\n",
    "#password = driver.find_element_by_id(\"password\")\n",
    "\n",
    "#locate password form by_xpath\n",
    "password = driver.find_element_by_xpath('//*[@id=\"password\"]')\n",
    "\n",
    "\n",
    "# send_keys() to simulate key strokes\n",
    "password.send_keys(myPassword)"
   ]
  },
  {
   "cell_type": "code",
   "execution_count": 8,
   "metadata": {},
   "outputs": [],
   "source": [
    "# locate submit button by_class_name\n",
    "log_in_button = driver.find_element_by_class_name('btn__primary--large')\n",
    "\n",
    "# locate submit button by_xpath\n",
    "#log_in_button = driver.find_element_by_xpath('//*[@type=\"submit\"]')\n"
   ]
  },
  {
   "cell_type": "code",
   "execution_count": 9,
   "metadata": {},
   "outputs": [],
   "source": [
    "# .click() to mimic button click\n",
    "log_in_button.click()"
   ]
  },
  {
   "cell_type": "markdown",
   "metadata": {},
   "source": [
    "# Post Jobs"
   ]
  },
  {
   "cell_type": "code",
   "execution_count": 10,
   "metadata": {},
   "outputs": [],
   "source": [
    "# locate post field by_xpath\n",
    "postButton = driver.find_element_by_xpath('//*[@id=\"ember42\"]/div/div[1]/button[1]')"
   ]
  },
  {
   "cell_type": "code",
   "execution_count": 11,
   "metadata": {},
   "outputs": [],
   "source": [
    "# .click() to mimic button click \n",
    "postButton.click()"
   ]
  },
  {
   "cell_type": "code",
   "execution_count": 13,
   "metadata": {},
   "outputs": [],
   "source": [
    "# locate text editor by_class_name\n",
    "postContent = driver.find_element_by_class_name('mentions-texteditor__content')\n",
    "\n",
    "# send_keys() to simulate key strokes\n",
    "postContent.send_keys(myPost)"
   ]
  },
  {
   "cell_type": "code",
   "execution_count": 17,
   "metadata": {},
   "outputs": [],
   "source": [
    "#locate post button by_id\n",
    "post = driver.find_element_by_id(\"ember613\")\n",
    "\n",
    "# .click() to mimic button click \n",
    "post.click()"
   ]
  },
  {
   "cell_type": "markdown",
   "metadata": {},
   "source": [
    "# Save Data into CSV"
   ]
  },
  {
   "cell_type": "code",
   "execution_count": 18,
   "metadata": {},
   "outputs": [],
   "source": [
    "# list of username, password, content\n",
    "\n",
    "myUsername = [\"username\"] \n",
    "myPass = [\"password\"] \n",
    "myPost = [\"\"\"Hello Everyone,\n",
    "\n",
    "Hope you are doing well,\n",
    "\n",
    "We are currently hiring for are as follow profile,\n",
    "\n",
    "Job title: Front End Developer\n",
    "Work Location: Noida Sector 62\n",
    "\n",
    "Essential Duties and Responsibilities:\n",
    "\n",
    "We are looking for a Front-End Web Developer who is motivated to combine the art of design with the art of programming. Responsibilities will include translation of the UI/UX design wireframes to actual code that will produce visual elements of the application. You will work with the UI/UX designer and bridge the gap between graphical design and technical implementation, taking an active role on both sides and defining how the application looks as well as how it works\n",
    "Responsibilities:\n",
    "• Develop new user-facing features\n",
    "• Build reusable code and libraries for future use\n",
    "• Ensure the technical feasibility of UI/UX designs\n",
    "• Optimize application for maximum speed and scalability\n",
    "• Assure that all user input is validated before submitting to back-end\n",
    "• Collaborate with other team members and stakeholders\n",
    "\n",
    "Moil placements service\n",
    "8750716479 / 9821156547 / 9582143633 / 0124-4561164\n",
    "\n",
    "#FrontEndDeveloper #ITJOBS #GURGAONJOBS #Moilconstantant\"\"\"] \n",
    "   \n",
    "# dictionary of lists  \n",
    "dict = {'Username': myUsername, 'Password': myPass, 'Post': myPost}\n",
    "\n",
    "df = pd.DataFrame(dict)\n",
    "\n",
    "# saving the dataframe \n",
    "df.to_csv('credentials.csv', index=False)"
   ]
  },
  {
   "cell_type": "code",
   "execution_count": null,
   "metadata": {},
   "outputs": [],
   "source": []
  }
 ],
 "metadata": {
  "kernelspec": {
   "display_name": "Python 2",
   "language": "python",
   "name": "python2"
  },
  "language_info": {
   "codemirror_mode": {
    "name": "ipython",
    "version": 2
   },
   "file_extension": ".py",
   "mimetype": "text/x-python",
   "name": "python",
   "nbconvert_exporter": "python",
   "pygments_lexer": "ipython2",
   "version": "2.7.16"
  }
 },
 "nbformat": 4,
 "nbformat_minor": 2
}
